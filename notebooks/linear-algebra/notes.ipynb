{
 "cells": [
  {
   "cell_type": "markdown",
   "id": "7b1c328c-5b13-4960-9c37-7aa758209287",
   "metadata": {
    "jp-MarkdownHeadingCollapsed": true
   },
   "source": [
    "# Hello\n",
    "\n",
    "myname is seperh masihpour\n",
    "\n",
    "## bruh\n",
    "how are you doing"
   ]
  },
  {
   "cell_type": "code",
   "execution_count": null,
   "id": "12332c75-18d2-4d81-abef-01614fbe066c",
   "metadata": {},
   "outputs": [],
   "source": []
  }
 ],
 "metadata": {
  "kernelspec": {
   "display_name": "maths-poetry-env",
   "language": "python",
   "name": "maths-poetry-env"
  },
  "language_info": {
   "codemirror_mode": {
    "name": "ipython",
    "version": 3
   },
   "file_extension": ".py",
   "mimetype": "text/x-python",
   "name": "python",
   "nbconvert_exporter": "python",
   "pygments_lexer": "ipython3",
   "version": "3.12.6"
  }
 },
 "nbformat": 4,
 "nbformat_minor": 5
}
